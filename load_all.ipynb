{
 "cells": [
  {
   "cell_type": "code",
   "execution_count": 1,
   "metadata": {},
   "outputs": [],
   "source": [
    "import pandas as pd \n",
    "import numpy as np \n"
   ]
  },
  {
   "cell_type": "code",
   "execution_count": null,
   "metadata": {},
   "outputs": [],
   "source": []
  },
  {
   "cell_type": "code",
   "execution_count": 2,
   "metadata": {},
   "outputs": [],
   "source": [
    "\n",
    "stops_trains = pd.read_csv('./google_transit/stops.txt')\n",
    "routes_trains = pd.read_csv('./google_transit/routes.txt')\n",
    "trips_trains = pd.read_csv('./google_transit/trips.txt')\n",
    "stop_times_trains = pd.read_csv('./google_transit/stop_times.txt')\n",
    "calendar_trains = pd.read_csv('./google_transit/calendar.txt')\n"
   ]
  },
  {
   "cell_type": "code",
   "execution_count": 3,
   "metadata": {},
   "outputs": [],
   "source": [
    "\n",
    "stops_bronx= pd.read_csv('./google_transit_bronx/stops.txt')\n",
    "routes_bronx = pd.read_csv('./google_transit_bronx/routes.txt')\n",
    "trips_bronx = pd.read_csv('./google_transit_bronx/trips.txt')\n",
    "stop_times_bronx = pd.read_csv('./google_transit_bronx/stop_times.txt')\n",
    "calendar_bronx = pd.read_csv('./google_transit_bronx/calendar.txt')\n"
   ]
  },
  {
   "cell_type": "code",
   "execution_count": 4,
   "metadata": {},
   "outputs": [],
   "source": [
    "\n",
    "stops_brooklyn = pd.read_csv('./google_transit_brooklyn/stops.txt')\n",
    "routes_brooklyn= pd.read_csv('./google_transit_brooklyn/routes.txt')\n",
    "trips_brooklyn = pd.read_csv('./google_transit_brooklyn/trips.txt')\n",
    "stop_times_brooklyn = pd.read_csv('./google_transit_brooklyn/stop_times.txt')\n",
    "calendar_brooklyn= pd.read_csv('./google_transit_brooklyn/calendar.txt')\n"
   ]
  },
  {
   "cell_type": "code",
   "execution_count": 5,
   "metadata": {},
   "outputs": [],
   "source": [
    "\n",
    "stops_manhattan = pd.read_csv('./google_transit_manhattan/stops.txt')\n",
    "routes_manhattan = pd.read_csv('./google_transit_manhattan/routes.txt')\n",
    "trips_manhattan= pd.read_csv('./google_transit_manhattan/trips.txt')\n",
    "stop_times_manhattan = pd.read_csv('./google_transit_manhattan/stop_times.txt')\n",
    "calendar_manhattan= pd.read_csv('./google_transit_manhattan/calendar.txt')\n"
   ]
  },
  {
   "cell_type": "code",
   "execution_count": 6,
   "metadata": {},
   "outputs": [],
   "source": [
    "\n",
    "stops_queens = pd.read_csv('./google_transit_queens/stops.txt')\n",
    "routes_queens  = pd.read_csv('./google_transit_queens/routes.txt')\n",
    "trips_queens = pd.read_csv('./google_transit_queens/trips.txt')\n",
    "stop_times_queens  = pd.read_csv('./google_transit_queens/stop_times.txt')\n",
    "calendar_queens  = pd.read_csv('./google_transit_queens/calendar.txt')\n"
   ]
  },
  {
   "cell_type": "code",
   "execution_count": 7,
   "metadata": {},
   "outputs": [],
   "source": [
    "\n",
    "stops_staten_island = pd.read_csv('./google_transit_staten_island/stops.txt')\n",
    "routes_staten_island= pd.read_csv('./google_transit_staten_island/routes.txt')\n",
    "trips_staten_island = pd.read_csv('./google_transit_staten_island/trips.txt')\n",
    "stop_times_staten_island = pd.read_csv('./google_transit_staten_island/stop_times.txt')\n",
    "calendar_staten_island = pd.read_csv('./google_transit_staten_island/calendar.txt')\n"
   ]
  },
  {
   "cell_type": "code",
   "execution_count": 8,
   "metadata": {},
   "outputs": [],
   "source": [
    "# Concatenate stops from all boroughs\n",
    "stops_combined = pd.concat([stops_manhattan, stops_brooklyn, stops_queens, stops_bronx, stops_staten_island])\n",
    "\n",
    "# Concatenate routes\n",
    "routes_combined = pd.concat([routes_manhattan, routes_brooklyn, routes_queens, routes_bronx, routes_staten_island])\n",
    "\n",
    "# Concatenate trips\n",
    "trips_combined = pd.concat([trips_manhattan, trips_brooklyn, trips_queens, trips_bronx, trips_staten_island])\n",
    "\n",
    "# Concatenate stop_times\n",
    "stop_times_combined = pd.concat([stop_times_manhattan, stop_times_brooklyn, stop_times_queens, stop_times_bronx, stop_times_staten_island])\n",
    "\n",
    "# Concatenate calendar\n",
    "calendar_combined = pd.concat([calendar_manhattan, calendar_brooklyn, calendar_queens, calendar_bronx, calendar_staten_island])\n"
   ]
  },
  {
   "cell_type": "code",
   "execution_count": 14,
   "metadata": {},
   "outputs": [],
   "source": [
    "stops_combined.to_csv('combined/stops.txt', index=False)\n",
    "routes_combined.to_csv('combined/routes.txt', index=False)\n",
    "trips_combined.to_csv('combined/trips.txt', index=False)\n",
    "stop_times_combined.to_csv('combined/stop_times.txt', index=False)\n",
    "calendar_combined.to_csv('combined/calendar.txt', index=False)\n"
   ]
  },
  {
   "cell_type": "code",
   "execution_count": null,
   "metadata": {},
   "outputs": [],
   "source": []
  }
 ],
 "metadata": {
  "kernelspec": {
   "display_name": "env",
   "language": "python",
   "name": "python3"
  },
  "language_info": {
   "codemirror_mode": {
    "name": "ipython",
    "version": 3
   },
   "file_extension": ".py",
   "mimetype": "text/x-python",
   "name": "python",
   "nbconvert_exporter": "python",
   "pygments_lexer": "ipython3",
   "version": "3.12.3"
  }
 },
 "nbformat": 4,
 "nbformat_minor": 2
}
